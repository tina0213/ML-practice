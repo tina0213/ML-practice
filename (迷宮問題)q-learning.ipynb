{
 "cells": [
  {
   "cell_type": "code",
   "execution_count": 1,
   "id": "e68586fb",
   "metadata": {},
   "outputs": [
    {
     "name": "stdout",
     "output_type": "stream",
     "text": [
      "[[  0.   0.   0.   0. 100.   0.]\n",
      " [  0.   0.   0.  50.   0. 200.]\n",
      " [  0.   0.   0.  50.   0.   0.]\n",
      " [  0. 100.  25.   0. 100.   0.]\n",
      " [ 50.   0.   0.  50.   0. 200.]\n",
      " [  0. 100.   0.   0. 100. 200.]]\n"
     ]
    }
   ],
   "source": [
    "\n",
    "import numpy as np\n",
    "GAMMA = 0.5\n",
    "Q = np.zeros((6,6))\n",
    "R=np.asarray([[-1,-1,-1,-1,0,-1],\n",
    "   [-1,-1,-1,0,-1,100],\n",
    "   [-1,-1,-1,0,-1,-1],\n",
    "   [-1,0, 0, -1,0,-1],\n",
    "   [0,-1,-1,0,-1,100],\n",
    "   [-1,0,-1,-1,0,100]])\n",
    "def getMaxQ(state):\n",
    "    return max(Q[state, :])\n",
    "def QLearning(state):\n",
    "    curAction = None\n",
    "    for action in range(6):\n",
    "        if(R[state][action] == -1):\n",
    "            Q[state, action]=0\n",
    "        else:\n",
    "            curAction = action\n",
    "            Q[state,action]=R[state][action]+GAMMA * getMaxQ(curAction)\n",
    "count=0\n",
    "while count<1000:\n",
    "    for i in range(6):\n",
    "        QLearning(i)\n",
    "    count+=1\n",
    "print(Q)"
   ]
  },
  {
   "cell_type": "code",
   "execution_count": null,
   "id": "965e206f",
   "metadata": {},
   "outputs": [],
   "source": []
  }
 ],
 "metadata": {
  "kernelspec": {
   "display_name": "Python 3",
   "language": "python",
   "name": "python3"
  },
  "language_info": {
   "codemirror_mode": {
    "name": "ipython",
    "version": 3
   },
   "file_extension": ".py",
   "mimetype": "text/x-python",
   "name": "python",
   "nbconvert_exporter": "python",
   "pygments_lexer": "ipython3",
   "version": "3.8.8"
  }
 },
 "nbformat": 4,
 "nbformat_minor": 5
}
